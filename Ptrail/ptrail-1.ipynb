{
 "cells": [
  {
   "cell_type": "code",
   "execution_count": null,
   "metadata": {},
   "outputs": [],
   "source": [
    "import numpy as np\n",
    "\n",
    "from ptrail.core.TrajectoryDF import PTRAILDataFrame\n",
    "from ptrail.core.Datasets import Datasets\n",
    "from ptrail.features.kinematic_features import KinematicFeatures as kinematic\n",
    "from ptrail.features.temporal_features import TemporalFeatures as temporal\n",
    "from ptrail.preprocessing.filters import Filters as filters\n",
    "import ptrail.utilities.constants as const\n",
    "\n",
    "import pandas as pd\n",
    "import time\n",
    "import matplotlib.pyplot as plt\n",
    "np.seterr(invalid='ignore')\n",
    "start = time.time()"
   ]
  },
  {
   "cell_type": "markdown",
   "metadata": {},
   "source": []
  },
  {
   "cell_type": "code",
   "execution_count": null,
   "metadata": {},
   "outputs": [],
   "source": [
    "%%time\n",
    "\"\"\"\n",
    "    First of all, lets import all the datasets one by one\n",
    "    and check out a few of their points.\n",
    "\"\"\"\n",
    "\n",
    "df = pd.read_csv('../../../Data/OpenSky/states_2022-06-27-01.csv', delimiter=',')\n",
    "#df = pd.read_parquet('../../../Data/city=Singapore/part-00003-8bbff892-97d2-4011-9961-703e38972569.c000.snappy.parquet', engine='auto')\n",
    "\n",
    "df\n"
   ]
  },
  {
   "cell_type": "code",
   "execution_count": null,
   "metadata": {},
   "outputs": [],
   "source": [
    "dict_df = PTRAILDataFrame(data_set=df,\n",
    "                        latitude='lat',\n",
    "                        longitude='lon',\n",
    "                        datetime='time',\n",
    "                        traj_id='icao24')\n",
    "print(f\"The dimensions of the dataframe:{dict_df.shape}\")\n",
    "print(f\"Type of the dataframe: {type(dict_df)}\")"
   ]
  },
  {
   "cell_type": "code",
   "execution_count": null,
   "metadata": {},
   "outputs": [],
   "source": [
    "atlantic = kinematic.create_speed_column(dict_df)\n"
   ]
  },
  {
   "cell_type": "code",
   "execution_count": null,
   "metadata": {},
   "outputs": [],
   "source": [
    "max_speed_filt_df = filters.filter_by_max_speed(atlantic, 1000)\n",
    "print(f\"Length of atlantic: {len(atlantic)}\")\n",
    "print(f\"Length of speed_filt_df: {len(max_speed_filt_df)}\")"
   ]
  },
  {
   "cell_type": "code",
   "execution_count": null,
   "metadata": {},
   "outputs": [],
   "source": [
    "# Now, lets filter the dataframe based on minimum speed.\n",
    "\n",
    "min_speed_filt = filters.filter_by_min_speed(max_speed_filt_df, 0)\n",
    "print(f\"Length of speed_filt_df: {len(max_speed_filt_df)}\")\n",
    "print(f\"Length of min_speed_filt: {len(min_speed_filt)}\")"
   ]
  },
  {
   "cell_type": "code",
   "execution_count": null,
   "metadata": {},
   "outputs": [],
   "source": [
    "odf_two = filters.filter_outliers_by_consecutive_speed(min_speed_filt)\n",
    "print(f\"length of geolife: {len(atlantic)}\")\n",
    "print(f\"length of outlier_df: {len(odf_two)}\")\n",
    "print(f\"Number of outliers: {len(atlantic) - len(odf_two)}\")"
   ]
  },
  {
   "cell_type": "code",
   "execution_count": null,
   "metadata": {},
   "outputs": [],
   "source": [
    "odf_two.to_csv('../Output/OpenSky-states_2022-06-27-01LAST.csv')"
   ]
  }
 ],
 "metadata": {
  "kernelspec": {
   "display_name": "base",
   "language": "python",
   "name": "python3"
  },
  "language_info": {
   "codemirror_mode": {
    "name": "ipython",
    "version": 3
   },
   "file_extension": ".py",
   "mimetype": "text/x-python",
   "name": "python",
   "nbconvert_exporter": "python",
   "pygments_lexer": "ipython3",
   "version": "3.9.12"
  },
  "orig_nbformat": 4,
  "vscode": {
   "interpreter": {
    "hash": "40d3a090f54c6569ab1632332b64b2c03c39dcf918b08424e98f38b5ae0af88f"
   }
  }
 },
 "nbformat": 4,
 "nbformat_minor": 2
}
